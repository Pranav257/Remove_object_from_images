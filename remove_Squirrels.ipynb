{
 "cells": [
  {
   "cell_type": "code",
   "execution_count": 7,
   "id": "23d953e8",
   "metadata": {
    "scrolled": true
   },
   "outputs": [
    {
     "name": "stderr",
     "output_type": "stream",
     "text": [
      "text_encoder/model.safetensors not found\n",
      "`text_config_dict` is provided which will be used to initialize `CLIPTextConfig`. The value `text_config[\"id2label\"]` will be overriden.\n",
      "100%|███████████████████████████████████████████| 50/50 [22:04<00:00, 26.49s/it]\n",
      "100%|████████████████████████████████████████| 50/50 [1:37:17<00:00, 116.74s/it]\n",
      "100%|█████████████████████████████████████████| 50/50 [1:08:43<00:00, 82.48s/it]\n",
      "100%|███████████████████████████████████████████| 50/50 [22:08<00:00, 26.58s/it]\n",
      "100%|███████████████████████████████████████████| 50/50 [24:15<00:00, 29.12s/it]\n"
     ]
    }
   ],
   "source": [
    "#!/usr/bin/env python\n",
    "# coding: utf-8\n",
    "\n",
    "# In[ ]:\n",
    "\n",
    "\n",
    "import PIL\n",
    "import torch\n",
    "from diffusers import StableDiffusionInpaintPipeline\n",
    "\n",
    "# Initialize the inpainting pipeline\n",
    "pipeline = StableDiffusionInpaintPipeline.from_pretrained(\n",
    "    \"runwayml/stable-diffusion-inpainting\",\n",
    "    torch_dtype=torch.float32\n",
    ")\n",
    "pipeline = pipeline.to(\"cpu\")\n",
    "\n",
    "def remove_squirrels(image_files, mask_files):\n",
    "    for i in range(len(image_files)):\n",
    "        image_file = image_files[i]\n",
    "        mask_file = mask_files[i]\n",
    "\n",
    "        # Load the image and mask from file paths\n",
    "        init_image = PIL.Image.open(image_file).convert(\"RGB\").resize((512, 512))\n",
    "        mask_image = PIL.Image.open(mask_file).convert(\"RGB\").resize((512, 512))\n",
    "\n",
    "        # Perform inpainting\n",
    "        output_image = pipeline(prompt=\"\", image=init_image, mask_image=mask_image).images[0]\n",
    "\n",
    "        # Save the output image with \"squirrelsRemoved\" appended to the filename\n",
    "        output_filename = image_file.replace(\".jpeg\", \"-squirrelsRemoved.jpeg\")\n",
    "        output_image.save(output_filename)\n",
    "\n",
    "# Example usage\n",
    "image_files = [\n",
    "    \"s1.jpeg\",\n",
    "    \"s2..jpeg\",\n",
    "    \"s4..jpg\",\n",
    "    \"s5..jpeg\",\n",
    "    \"s6.jpeg\"\n",
    "]\n",
    "\n",
    "mask_files = [\n",
    "    \"mask_mask_s1.jpeg\",\n",
    "    \"mask_mask_s2..jpeg\",\n",
    "    \"mask_mask_s4..jpg\",\n",
    "    \"mask_mask_s5..jpeg\",\n",
    "    \"mask_mask_s6.jpeg\"\n",
    "]\n",
    "\n",
    "remove_squirrels(image_files, mask_files)\n",
    "\n"
   ]
  },
  {
   "cell_type": "code",
   "execution_count": null,
   "id": "1b512881",
   "metadata": {},
   "outputs": [],
   "source": []
  },
  {
   "cell_type": "code",
   "execution_count": null,
   "id": "1510d056",
   "metadata": {},
   "outputs": [],
   "source": []
  }
 ],
 "metadata": {
  "kernelspec": {
   "display_name": "Python 3 (ipykernel)",
   "language": "python",
   "name": "python3"
  },
  "language_info": {
   "codemirror_mode": {
    "name": "ipython",
    "version": 3
   },
   "file_extension": ".py",
   "mimetype": "text/x-python",
   "name": "python",
   "nbconvert_exporter": "python",
   "pygments_lexer": "ipython3",
   "version": "3.10.9"
  }
 },
 "nbformat": 4,
 "nbformat_minor": 5
}
